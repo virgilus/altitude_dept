{
 "cells": [
  {
   "cell_type": "markdown",
   "id": "9648e79e",
   "metadata": {},
   "source": [
    "# Exercice\n",
    "\n",
    "## Calculate the mean altitude per department\n",
    "\n",
    "For some reason it is quite difficult to find the mean altitude of each department in France on the web. So let's compute it and check out which department is the highest on average.\n",
    "\n",
    "For those who don't know, France is divided into several administrative levels, the main ones being:   \n",
    "\n",
    "- Régions (13 + 5 overseas)\n",
    "- Départements (96 + 5 overseas)\n",
    "- Communes (about 35,000), which can be translated as \"municipalities\", \"towns\" or \"cities\".\n",
    "\n",
    "## Instructions\n",
    "\n",
    "- Go on the web and find a dataset that allows you to do this.\n",
    "- Then use pandas to load the dataset and perform the necessary calculations.\n",
    "- Verify that your results are the same than the file `mean_altitude_dept_output.csv` which is located in the same folder as this notebook. Results may vary slightly depending on the dataset you used, but the differences should be minimal."
   ]
  },
  {
   "cell_type": "code",
   "execution_count": null,
   "id": "a508d28e",
   "metadata": {},
   "outputs": [],
   "source": [
    "import pandas as pd\n",
    "\n",
    "# Code here!\n",
    "\n"
   ]
  },
  {
   "cell_type": "code",
   "execution_count": null,
   "id": "25151131",
   "metadata": {
    "tags": [
     "solution"
    ]
   },
   "outputs": [],
   "source": [
    "#https://www.data.gouv.fr/datasets/communes-et-villes-de-france-en-csv-excel-json-parquet-et-feather/\n",
    "\n",
    "import pandas as pd\n",
    "\n",
    "d = {\n",
    "    \"code_insee\": [\"string\", \"insee_code\"],\n",
    "    \"nom_standard\": [\"string\", \"name\"],\n",
    "    \"dep_code\": [\"string\", \"dep_code\"],\n",
    "    \"dep_nom\": [\"string\", \"dep_name\"],\n",
    "    \"superficie_km2\": [\"float32\", \"area_km2\"],\n",
    "    \"altitude_moyenne\": [\"float32\", \"mean_altitude_m\"],\n",
    "}\n",
    "\n",
    "df = pd.read_csv(\n",
    "    \"data/communes-france-2025.csv.gz\",\n",
    "    compression=\"gzip\",\n",
    "    usecols=d.keys(),\n",
    "    dtype={k: v[0] for k, v in d.items()}\n",
    ").rename(columns={k: v[1] for k, v in d.items()})\n",
    "\n",
    "df"
   ]
  },
  {
   "cell_type": "code",
   "execution_count": null,
   "id": "4fb23d96",
   "metadata": {
    "tags": [
     "solution"
    ]
   },
   "outputs": [],
   "source": [
    "import pandas as pd\n",
    "\n",
    "dtypes = {\n",
    "    \"code_insee\": \"string\",\n",
    "    \"nom_standard\": \"string\",\n",
    "    \"dep_code\": \"string\",\n",
    "    \"dep_nom\": \"string\",\n",
    "    \"superficie_km2\": \"float32\",\n",
    "    \"altitude_moyenne\": \"float32\",\n",
    "}\n",
    "\n",
    "df = pd.read_csv(\n",
    "    \"data/communes-france-2025.csv.gz\",\n",
    "    compression=\"gzip\",\n",
    "    usecols=dtypes.keys(),\n",
    "    dtype=dtypes\n",
    ").rename(columns={\n",
    "    \"code_insee\": \"insee_code\",\n",
    "    \"nom_standard\": \"standard_name\",\n",
    "    \"dep_code\": \"dep_code\",\n",
    "    \"dep_nom\": \"dep_name\",\n",
    "    \"superficie_km2\": \"area_km2\",\n",
    "    \"altitude_moyenne\": \"mean_altitude_m\"})\n",
    "\n",
    "df"
   ]
  },
  {
   "cell_type": "code",
   "execution_count": null,
   "id": "202f45ba",
   "metadata": {
    "tags": [
     "solution"
    ]
   },
   "outputs": [],
   "source": [
    "total_area_per_department = df.groupby([\"dep_code\", \"dep_name\"]).agg(\n",
    "    department_area_km2=(\"area_km2\", \"sum\")\n",
    ").sort_values(\"department_area_km2\", ascending=False).reset_index()\n",
    "\n",
    "total_area_per_department"
   ]
  },
  {
   "cell_type": "code",
   "execution_count": null,
   "id": "daba69ab",
   "metadata": {
    "tags": [
     "solution"
    ]
   },
   "outputs": [],
   "source": [
    "df = df.merge(\n",
    "    total_area_per_department,\n",
    "    on=[\"dep_code\", \"dep_name\"],\n",
    "    how=\"left\")"
   ]
  },
  {
   "cell_type": "code",
   "execution_count": null,
   "id": "5f353ff8",
   "metadata": {
    "tags": [
     "solution"
    ]
   },
   "outputs": [],
   "source": [
    "df['area_share'] = df['area_km2'] / df['department_area_km2']\n",
    "df['mean_altitude_weighted'] = df['mean_altitude_m'] * df['area_share']"
   ]
  },
  {
   "cell_type": "code",
   "execution_count": null,
   "id": "15b01d5d",
   "metadata": {
    "tags": [
     "solution"
    ]
   },
   "outputs": [],
   "source": [
    "\n",
    "df.groupby([\"dep_code\", \"dep_name\"], as_index=False).agg(\n",
    "    mean_altitude_m=(\"mean_altitude_weighted\", lambda x: int(x.sum()))\n",
    ").sort_values(\"mean_altitude_m\", ascending=False).reset_index(drop=True)\n"
   ]
  }
 ],
 "metadata": {
  "kernelspec": {
   "display_name": "v",
   "language": "python",
   "name": "python3"
  },
  "language_info": {
   "codemirror_mode": {
    "name": "ipython",
    "version": 3
   },
   "file_extension": ".py",
   "mimetype": "text/x-python",
   "name": "python",
   "nbconvert_exporter": "python",
   "pygments_lexer": "ipython3",
   "version": "3.13.3"
  }
 },
 "nbformat": 4,
 "nbformat_minor": 5
}
